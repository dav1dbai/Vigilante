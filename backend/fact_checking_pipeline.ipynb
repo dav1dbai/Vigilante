{
  "cells": [
    {
      "cell_type": "code",
      "execution_count": 1,
      "metadata": {
        "colab": {
          "base_uri": "https://localhost:8080/"
        },
        "id": "akX1A2rCMYQ9",
        "outputId": "faebdf67-0c6b-4146-9c30-41a1d690b411"
      },
      "outputs": [
        {
          "name": "stdout",
          "output_type": "stream",
          "text": [
            "Requirement already satisfied: groq in ./.venv/lib/python3.11/site-packages (0.18.0)\n",
            "Requirement already satisfied: anyio<5,>=3.5.0 in ./.venv/lib/python3.11/site-packages (from groq) (4.8.0)\n",
            "Requirement already satisfied: distro<2,>=1.7.0 in ./.venv/lib/python3.11/site-packages (from groq) (1.9.0)\n",
            "Requirement already satisfied: httpx<1,>=0.23.0 in ./.venv/lib/python3.11/site-packages (from groq) (0.28.1)\n",
            "Requirement already satisfied: pydantic<3,>=1.9.0 in ./.venv/lib/python3.11/site-packages (from groq) (2.10.6)\n",
            "Requirement already satisfied: sniffio in ./.venv/lib/python3.11/site-packages (from groq) (1.3.1)\n",
            "Requirement already satisfied: typing-extensions<5,>=4.10 in ./.venv/lib/python3.11/site-packages (from groq) (4.12.2)\n",
            "Requirement already satisfied: idna>=2.8 in ./.venv/lib/python3.11/site-packages (from anyio<5,>=3.5.0->groq) (3.10)\n",
            "Requirement already satisfied: certifi in ./.venv/lib/python3.11/site-packages (from httpx<1,>=0.23.0->groq) (2025.1.31)\n",
            "Requirement already satisfied: httpcore==1.* in ./.venv/lib/python3.11/site-packages (from httpx<1,>=0.23.0->groq) (1.0.7)\n",
            "Requirement already satisfied: h11<0.15,>=0.13 in ./.venv/lib/python3.11/site-packages (from httpcore==1.*->httpx<1,>=0.23.0->groq) (0.14.0)\n",
            "Requirement already satisfied: annotated-types>=0.6.0 in ./.venv/lib/python3.11/site-packages (from pydantic<3,>=1.9.0->groq) (0.7.0)\n",
            "Requirement already satisfied: pydantic-core==2.27.2 in ./.venv/lib/python3.11/site-packages (from pydantic<3,>=1.9.0->groq) (2.27.2)\n"
          ]
        }
      ],
      "source": [
        "!pip install groq"
      ]
    },
    {
      "cell_type": "code",
      "execution_count": 2,
      "metadata": {
        "id": "pe6NEqd2cGOS"
      },
      "outputs": [
        {
          "ename": "ModuleNotFoundError",
          "evalue": "No module named 'google'",
          "output_type": "error",
          "traceback": [
            "\u001b[0;31m---------------------------------------------------------------------------\u001b[0m",
            "\u001b[0;31mModuleNotFoundError\u001b[0m                       Traceback (most recent call last)",
            "Cell \u001b[0;32mIn[2], line 1\u001b[0m\n\u001b[0;32m----> 1\u001b[0m \u001b[38;5;28;01mfrom\u001b[39;00m\u001b[38;5;250m \u001b[39m\u001b[38;5;21;01mgoogle\u001b[39;00m\u001b[38;5;21;01m.\u001b[39;00m\u001b[38;5;21;01mcolab\u001b[39;00m\u001b[38;5;250m \u001b[39m\u001b[38;5;28;01mimport\u001b[39;00m userdata\n\u001b[1;32m      3\u001b[0m GROQ_API_KEY \u001b[38;5;241m=\u001b[39m userdata\u001b[38;5;241m.\u001b[39mget(\u001b[38;5;124m'\u001b[39m\u001b[38;5;124mgroq_api_key\u001b[39m\u001b[38;5;124m'\u001b[39m)\n\u001b[1;32m      4\u001b[0m PPLX_API_KEY \u001b[38;5;241m=\u001b[39m userdata\u001b[38;5;241m.\u001b[39mget(\u001b[38;5;124m'\u001b[39m\u001b[38;5;124mpplx_api_key\u001b[39m\u001b[38;5;124m'\u001b[39m)\n",
            "\u001b[0;31mModuleNotFoundError\u001b[0m: No module named 'google'"
          ]
        }
      ],
      "source": [
        "from google.colab import userdata\n",
        "\n",
        "GROQ_API_KEY = userdata.get('groq_api_key')\n",
        "PPLX_API_KEY = userdata.get('pplx_api_key')"
      ]
    },
    {
      "cell_type": "code",
      "execution_count": null,
      "metadata": {
        "id": "uMpFRZtPLOdd"
      },
      "outputs": [],
      "source": [
        "from groq import Groq\n",
        "\n",
        "client = Groq(api_key=GROQ_API_KEY)"
      ]
    },
    {
      "cell_type": "code",
      "execution_count": null,
      "metadata": {
        "colab": {
          "base_uri": "https://localhost:8080/"
        },
        "id": "Z-ZIfeI_MUqf",
        "outputId": "9da7d8fd-32de-4999-fdec-cf4a676e62a0"
      },
      "outputs": [
        {
          "data": {
            "text/plain": [
              "['A lawsuit was filed against Sean \"Diddy\" Combs and Jay-Z over the alleged rape of a 13-year-old girl in 2000.',\n",
              " 'The lawsuit against Sean \"Diddy\" Combs and Jay-Z has been dismissed by attorney Tony Buzbee.',\n",
              " 'The lawsuit was dismissed \"with prejudice,\" meaning it cannot be re-filed again in the future.',\n",
              " 'Jay-Z has declared victory following the dismissal of the lawsuit.']"
            ]
          },
          "execution_count": 49,
          "metadata": {},
          "output_type": "execute_result"
        }
      ],
      "source": [
        "SYS_PROMPT = \"\"\"\\\n",
        "Your task is to split a post into a list of claims.\n",
        "\n",
        "ONLY respond with the claims, and nothing else. Do NOT number the claims.\n",
        "\n",
        "Respond with a separate claim on a new line.\n",
        "\n",
        "## Example Input:\n",
        "Author: SWAFF\n",
        "Content: We could cure cancer, but we're feedin' our money to defense contractors and foreign gov'ts. and LGBTQ BS #CancerVaccine is our battle cry, showin' how we neglect our health for war. We need to make #MAHA lifestyle the American lifestyle.\n",
        "\n",
        "## Example Output:\n",
        "We could cure cancer.\n",
        "Money is being sent to foreign governments and defense contractors instead of cancer research.\n",
        "The focus on LGBTQ issues distracts from cancer research and the need for a cancer vaccine.\n",
        "The US neglects its health in favor of funding war efforts.\n",
        "The MAHA lifestyle should be adopted as the American lifestyle.\n",
        "\n",
        "## Example Input:\n",
        "Author: Charlie Kirk\n",
        "Content: The speed, depth, and power of DOGE has shocked both supporters and critics. I’m surprised and I’m thrilled. It’s fundamentally reshaping the future of what’s possible in government. Historic.\n",
        "\n",
        "## Example Output:\n",
        "The speed, depth, and power of DOGE has shocked both supporters and critics.\n",
        "\"\"\"\n",
        "\n",
        "USER_PROMPT = \"\"\"\\\n",
        "Author: Shadow of Ezra\n",
        "Content: The lawsuit against Sean “Diddy” Combs and Jay-Z over the alleged r*pe of a 13-year-old girl in 2000 has been dismissed by attorney Tony Buzbee, who was representing Jane Doe. Jane Doe dismissed the case \"with prejudice,\" meaning it cannot be re-filed again in the future. Jay-Z a.k.a. Shawn Carter has declared victory.\"\"\"\n",
        "\n",
        "chat_completion = client.chat.completions.create(\n",
        "    messages=[\n",
        "        {\n",
        "            \"role\": \"system\",\n",
        "            \"content\": SYS_PROMPT\n",
        "        },\n",
        "        {\n",
        "            \"role\": \"user\",\n",
        "            \"content\": USER_PROMPT,\n",
        "        },\n",
        "    ],\n",
        "    model=\"llama-3.2-90b-vision-preview\",\n",
        "    stop=None,\n",
        "    temperature=0,\n",
        ")\n",
        "\n",
        "response = chat_completion.choices[0].message.content\n",
        "\n",
        "claims = [v.strip() for v in response.split(\"\\n\")]\n",
        "\n",
        "claims"
      ]
    },
    {
      "cell_type": "code",
      "execution_count": null,
      "metadata": {
        "id": "01Ex6U18UpIP"
      },
      "outputs": [],
      "source": [
        "import requests\n",
        "\n",
        "def call_perplexity(messages):\n",
        "  url = \"https://api.perplexity.ai/chat/completions\"\n",
        "\n",
        "  payload = {\n",
        "      \"model\": \"sonar\",\n",
        "      \"messages\": messages,\n",
        "      \"temperature\": 0,\n",
        "      \"return_images\": False,\n",
        "      \"return_related_questions\": False,\n",
        "      \"search_recency_filter\": \"month\",\n",
        "  }\n",
        "  headers = {\n",
        "      \"Authorization\": f\"Bearer {PPLX_API_KEY}\",\n",
        "      \"Content-Type\": \"application/json\"\n",
        "  }\n",
        "\n",
        "  response = requests.request(\"POST\", url, json=payload, headers=headers)\n",
        "\n",
        "  return response"
      ]
    },
    {
      "cell_type": "code",
      "execution_count": null,
      "metadata": {
        "colab": {
          "base_uri": "https://localhost:8080/"
        },
        "id": "cfVjixy8OCuR",
        "outputId": "2462d012-d91a-4237-9f3e-e038a6f6d316"
      },
      "outputs": [
        {
          "name": "stdout",
          "output_type": "stream",
          "text": [
            "The claim that \"A lawsuit was filed against Sean 'Diddy' Combs and Jay-Z over the alleged rape of a 13-year-old girl in 2000\" is supported by the following evidence:\n",
            "\n",
            "- A civil lawsuit was indeed filed against Sean \"Diddy\" Combs and Jay-Z, accusing them of raping a 13-year-old girl at a house party following the MTV Video Music Awards in 2000[1][2].\n",
            "- The lawsuit was initially filed against Combs in October and later amended to include Jay-Z as a defendant in December[1].\n",
            "---\n",
            "The claim that \"the lawsuit against Sean 'Diddy' Combs and Jay-Z has been dismissed by attorney Tony Buzbee\" is not supported by the available evidence. According to the search results, the lawsuit was voluntarily dismissed by the plaintiff (Jane Doe) through her attorney, but there is no specific mention that Tony Buzbee was the one who dismissed the lawsuit on behalf of the plaintiff. Instead, Tony Buzbee is mentioned as having filed more than two dozen lawsuits against Combs, including the one that was dismissed, but he declined to comment on the dismissal[3].\n",
            "---\n",
            "The claim that the lawsuit was dismissed \"with prejudice,\" meaning it cannot be re-filed again in the future, is supported by multiple sources. Court papers filed in New York federal court stated that the suit was \"voluntarily dismissed with prejudice,\" which means it cannot be refiled[1][4]. This type of dismissal is final and prevents the case from being brought again[4].\n",
            "---\n",
            "The claim that \"Jay-Z has declared victory following the dismissal of the lawsuit\" is supported by evidence. Jay-Z stated that the dismissal was a victory, noting that the allegations were \"frivolous, fictitious and appalling\" and that he had cleared his name without settling or paying any money[1][3]. His statement described the outcome as a victory, aligning with the claim in the post[3].\n",
            "---\n"
          ]
        }
      ],
      "source": [
        "import json\n",
        "\n",
        "def find_sources_for_claim(post, claim):\n",
        "  return json.loads(call_perplexity([\n",
        "      {\n",
        "          \"role\": \"system\",\n",
        "          \"content\": \"\"\"\\\n",
        "Your job is to analyze the veracity of a claim.\n",
        "\n",
        "Respond using 2-3 sentences.\n",
        "\n",
        "Only respond with evidence relating directly to the claim; only use the full text of the post as additional context.\n",
        "\"\"\"\n",
        "      },\n",
        "      {\n",
        "          \"role\": \"user\",\n",
        "          \"content\": f\"\"\"\\\n",
        "Here is the full text of a post:\n",
        "\"{post}\"\n",
        "\n",
        "\n",
        "Find evidence to support or reject this claim (and ONLY this claim) from the post:\n",
        "\"{claim}\".\n",
        "\"\"\"\n",
        "      }\n",
        "  ]).text)\n",
        "\n",
        "POST = \"\"\"The lawsuit against Sean “Diddy” Combs and Jay-Z over the alleged r*pe of a 13-year-old girl in 2000 has been dismissed by attorney Tony Buzbee, who was representing Jane Doe. Jane Doe dismissed the case \"with prejudice,\" meaning it cannot be re-filed again in the future. Jay-Z a.k.a. Shawn Carter has declared victory.\"\"\"\n",
        "\n",
        "claims_sources_explanations = []\n",
        "for claim in claims:\n",
        "  res = find_sources_for_claim(POST, claim)\n",
        "  sources = res[\"citations\"]\n",
        "  explanation = res[\"choices\"][0][\"message\"][\"content\"]\n",
        "\n",
        "  print(explanation)\n",
        "  print(\"---\")\n",
        "\n",
        "  claims_sources_explanations.append((claim, sources, explanation))"
      ]
    },
    {
      "cell_type": "code",
      "execution_count": null,
      "metadata": {
        "colab": {
          "base_uri": "https://localhost:8080/"
        },
        "id": "r6-zWRRkUyE5",
        "outputId": "4cbf8f1b-f332-4e22-8d30-3c32e414cdc0"
      },
      "outputs": [
        {
          "name": "stdout",
          "output_type": "stream",
          "text": [
            "{'claim': 'A lawsuit was filed against Sean \"Diddy\" Combs and Jay-Z over the alleged rape of a 13-year-old girl in 2000.', 'sources': ['https://www.latimes.com/california/story/2025-02-14/accuser-drops-rape-lawsuit-against-jay-z-and-sean-diddy-combs', 'https://abc7.com/post/civil-case-accusing-sean-diddy-combs-shawn-jay-carter-sexual-assault-dismissed/15908008/', 'https://www.cbsnews.com/news/jay-z-sean-diddy-combs-sexual-assault-lawsuit-dropped-by-accuser/', 'https://abcnews.go.com/Entertainment/civil-case-accusing-jay-z-diddy-rape-dismissed/story?id=118847148'], 'evidence': 'The claim that \"A lawsuit was filed against Sean \\'Diddy\\' Combs and Jay-Z over the alleged rape of a 13-year-old girl in 2000\" is supported by the following evidence:\\n\\n- A civil lawsuit was indeed filed against Sean \"Diddy\" Combs and Jay-Z, accusing them of raping a 13-year-old girl at a house party following the MTV Video Music Awards in 2000[1][2].\\n- The lawsuit was initially filed against Combs in October and later amended to include Jay-Z as a defendant in December[1].', 'is_misleading': False}\n",
            "{'claim': 'The lawsuit against Sean \"Diddy\" Combs and Jay-Z has been dismissed by attorney Tony Buzbee.', 'sources': ['https://www.latimes.com/california/story/2025-02-14/accuser-drops-rape-lawsuit-against-jay-z-and-sean-diddy-combs', 'https://abc7.com/post/civil-case-accusing-sean-diddy-combs-shawn-jay-carter-sexual-assault-dismissed/15908008/', 'https://www.cbsnews.com/news/jay-z-sean-diddy-combs-sexual-assault-lawsuit-dropped-by-accuser/', 'https://abcnews.go.com/Entertainment/civil-case-accusing-jay-z-diddy-rape-dismissed/story?id=118847148'], 'evidence': 'The claim that \"the lawsuit against Sean \\'Diddy\\' Combs and Jay-Z has been dismissed by attorney Tony Buzbee\" is not supported by the available evidence. According to the search results, the lawsuit was voluntarily dismissed by the plaintiff (Jane Doe) through her attorney, but there is no specific mention that Tony Buzbee was the one who dismissed the lawsuit on behalf of the plaintiff. Instead, Tony Buzbee is mentioned as having filed more than two dozen lawsuits against Combs, including the one that was dismissed, but he declined to comment on the dismissal[3].', 'is_misleading': True}\n",
            "{'claim': 'The lawsuit was dismissed \"with prejudice,\" meaning it cannot be re-filed again in the future.', 'sources': ['https://www.latimes.com/california/story/2025-02-14/accuser-drops-rape-lawsuit-against-jay-z-and-sean-diddy-combs', 'https://abc7.com/post/civil-case-accusing-sean-diddy-combs-shawn-jay-carter-sexual-assault-dismissed/15908008/', 'https://www.cbsnews.com/news/jay-z-sean-diddy-combs-sexual-assault-lawsuit-dropped-by-accuser/', 'https://abcnews.go.com/Entertainment/civil-case-accusing-jay-z-diddy-rape-dismissed/story?id=118847148'], 'evidence': 'The claim that the lawsuit was dismissed \"with prejudice,\" meaning it cannot be re-filed again in the future, is supported by multiple sources. Court papers filed in New York federal court stated that the suit was \"voluntarily dismissed with prejudice,\" which means it cannot be refiled[1][4]. This type of dismissal is final and prevents the case from being brought again[4].', 'is_misleading': False}\n",
            "{'claim': 'Jay-Z has declared victory following the dismissal of the lawsuit.', 'sources': ['https://www.latimes.com/california/story/2025-02-14/accuser-drops-rape-lawsuit-against-jay-z-and-sean-diddy-combs', 'https://abc7.com/post/civil-case-accusing-sean-diddy-combs-shawn-jay-carter-sexual-assault-dismissed/15908008/', 'https://www.cbsnews.com/news/jay-z-sean-diddy-combs-sexual-assault-lawsuit-dropped-by-accuser/', 'https://abcnews.go.com/Entertainment/civil-case-accusing-jay-z-diddy-rape-dismissed/story?id=118847148'], 'evidence': 'The claim that \"Jay-Z has declared victory following the dismissal of the lawsuit\" is supported by evidence. Jay-Z stated that the dismissal was a victory, noting that the allegations were \"frivolous, fictitious and appalling\" and that he had cleared his name without settling or paying any money[1][3]. His statement described the outcome as a victory, aligning with the claim in the post[3].', 'is_misleading': False}\n"
          ]
        }
      ],
      "source": [
        "evaluations = []\n",
        "\n",
        "def rate_claim(post, claim, evidence):\n",
        "  prompt1 = f\"\"\"\\\n",
        "Here is the full text of a post:\n",
        "\"{post}\"\n",
        "\n",
        "\n",
        "Find evidence to support or reject this claim from the post:\n",
        "\"{claim}\".\n",
        "\"\"\"\n",
        "\n",
        "  prompt2 = \"Given this explanation, respond with whether the claim is ACCURATE or MISLEADING.\\n\\nOnly respond with ACCURATE or MISLEADING, nothing else.\"\n",
        "\n",
        "  completion = client.chat.completions.create(\n",
        "    messages=[\n",
        "        {\n",
        "            \"role\": \"user\",\n",
        "            \"content\": prompt1,\n",
        "        },\n",
        "        {\n",
        "            \"role\": \"assistant\",\n",
        "            \"content\": evidence,\n",
        "        },\n",
        "        {\n",
        "            \"role\": \"user\",\n",
        "            \"content\": prompt2,\n",
        "        },\n",
        "    ],\n",
        "    model=\"llama-3.1-8b-instant\",\n",
        "    stop=None,\n",
        "    temperature=0,\n",
        "  )\n",
        "\n",
        "  response = completion.choices[0].message.content\n",
        "\n",
        "  return response\n",
        "\n",
        "\n",
        "for claim, source, evidence in claims_sources_explanations:\n",
        "  decision = rate_claim(POST, claim, evidence)\n",
        "\n",
        "  evaluation = {\n",
        "      \"claim\": claim,\n",
        "      \"sources\": sources,\n",
        "      \"evidence\": evidence,\n",
        "      \"is_misleading\": decision == \"MISLEADING\"\n",
        "  }\n",
        "\n",
        "  print(evaluation)\n",
        "\n",
        "  evaluations.append(evaluation)\n"
      ]
    },
    {
      "cell_type": "code",
      "execution_count": null,
      "metadata": {
        "id": "AkXUV4MgZgUS"
      },
      "outputs": [],
      "source": []
    }
  ],
  "metadata": {
    "colab": {
      "provenance": []
    },
    "kernelspec": {
      "display_name": ".venv",
      "language": "python",
      "name": "python3"
    },
    "language_info": {
      "codemirror_mode": {
        "name": "ipython",
        "version": 3
      },
      "file_extension": ".py",
      "mimetype": "text/x-python",
      "name": "python",
      "nbconvert_exporter": "python",
      "pygments_lexer": "ipython3",
      "version": "3.11.6"
    }
  },
  "nbformat": 4,
  "nbformat_minor": 0
}
