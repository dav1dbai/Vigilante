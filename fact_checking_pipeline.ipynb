{
  "nbformat": 4,
  "nbformat_minor": 0,
  "metadata": {
    "colab": {
      "provenance": []
    },
    "kernelspec": {
      "name": "python3",
      "display_name": "Python 3"
    },
    "language_info": {
      "name": "python"
    }
  },
  "cells": [
    {
      "cell_type": "code",
      "source": [
        "!pip install groq"
      ],
      "metadata": {
        "colab": {
          "base_uri": "https://localhost:8080/"
        },
        "id": "akX1A2rCMYQ9",
        "outputId": "faebdf67-0c6b-4146-9c30-41a1d690b411"
      },
      "execution_count": 2,
      "outputs": [
        {
          "output_type": "stream",
          "name": "stdout",
          "text": [
            "Collecting groq\n",
            "  Downloading groq-0.18.0-py3-none-any.whl.metadata (14 kB)\n",
            "Requirement already satisfied: anyio<5,>=3.5.0 in /usr/local/lib/python3.11/dist-packages (from groq) (3.7.1)\n",
            "Requirement already satisfied: distro<2,>=1.7.0 in /usr/local/lib/python3.11/dist-packages (from groq) (1.9.0)\n",
            "Requirement already satisfied: httpx<1,>=0.23.0 in /usr/local/lib/python3.11/dist-packages (from groq) (0.28.1)\n",
            "Requirement already satisfied: pydantic<3,>=1.9.0 in /usr/local/lib/python3.11/dist-packages (from groq) (2.10.6)\n",
            "Requirement already satisfied: sniffio in /usr/local/lib/python3.11/dist-packages (from groq) (1.3.1)\n",
            "Requirement already satisfied: typing-extensions<5,>=4.10 in /usr/local/lib/python3.11/dist-packages (from groq) (4.12.2)\n",
            "Requirement already satisfied: idna>=2.8 in /usr/local/lib/python3.11/dist-packages (from anyio<5,>=3.5.0->groq) (3.10)\n",
            "Requirement already satisfied: certifi in /usr/local/lib/python3.11/dist-packages (from httpx<1,>=0.23.0->groq) (2025.1.31)\n",
            "Requirement already satisfied: httpcore==1.* in /usr/local/lib/python3.11/dist-packages (from httpx<1,>=0.23.0->groq) (1.0.7)\n",
            "Requirement already satisfied: h11<0.15,>=0.13 in /usr/local/lib/python3.11/dist-packages (from httpcore==1.*->httpx<1,>=0.23.0->groq) (0.14.0)\n",
            "Requirement already satisfied: annotated-types>=0.6.0 in /usr/local/lib/python3.11/dist-packages (from pydantic<3,>=1.9.0->groq) (0.7.0)\n",
            "Requirement already satisfied: pydantic-core==2.27.2 in /usr/local/lib/python3.11/dist-packages (from pydantic<3,>=1.9.0->groq) (2.27.2)\n",
            "Downloading groq-0.18.0-py3-none-any.whl (121 kB)\n",
            "\u001b[2K   \u001b[90m━━━━━━━━━━━━━━━━━━━━━━━━━━━━━━━━━━━━━━━━\u001b[0m \u001b[32m121.9/121.9 kB\u001b[0m \u001b[31m2.9 MB/s\u001b[0m eta \u001b[36m0:00:00\u001b[0m\n",
            "\u001b[?25hInstalling collected packages: groq\n",
            "Successfully installed groq-0.18.0\n"
          ]
        }
      ]
    },
    {
      "cell_type": "code",
      "source": [
        "from google.colab import userdata\n",
        "\n",
        "GROQ_API_KEY = userdata.get('groq_api_key')\n",
        "PPLX_API_KEY = userdata.get('pplx_api_key')"
      ],
      "metadata": {
        "id": "pe6NEqd2cGOS"
      },
      "execution_count": 70,
      "outputs": []
    },
    {
      "cell_type": "code",
      "execution_count": 4,
      "metadata": {
        "id": "uMpFRZtPLOdd"
      },
      "outputs": [],
      "source": [
        "from groq import Groq\n",
        "\n",
        "client = Groq(api_key=GROQ_API_KEY)"
      ]
    },
    {
      "cell_type": "code",
      "source": [
        "SYS_PROMPT = \"\"\"\\\n",
        "Your task is to split a post into a list of claims.\n",
        "\n",
        "ONLY respond with the claims, and nothing else. Do NOT number the claims.\n",
        "\n",
        "Respond with a separate claim on a new line.\n",
        "\n",
        "## Example Input:\n",
        "Author: SWAFF\n",
        "Content: We could cure cancer, but we're feedin' our money to defense contractors and foreign gov'ts. and LGBTQ BS #CancerVaccine is our battle cry, showin' how we neglect our health for war. We need to make #MAHA lifestyle the American lifestyle.\n",
        "\n",
        "## Example Output:\n",
        "We could cure cancer.\n",
        "Money is being sent to foreign governments and defense contractors instead of cancer research.\n",
        "The focus on LGBTQ issues distracts from cancer research and the need for a cancer vaccine.\n",
        "The US neglects its health in favor of funding war efforts.\n",
        "The MAHA lifestyle should be adopted as the American lifestyle.\n",
        "\n",
        "## Example Input:\n",
        "Author: Charlie Kirk\n",
        "Content: The speed, depth, and power of DOGE has shocked both supporters and critics. I’m surprised and I’m thrilled. It’s fundamentally reshaping the future of what’s possible in government. Historic.\n",
        "\n",
        "## Example Output:\n",
        "The speed, depth, and power of DOGE has shocked both supporters and critics.\n",
        "\"\"\"\n",
        "\n",
        "USER_PROMPT = \"\"\"\\\n",
        "Author: Shadow of Ezra\n",
        "Content: The lawsuit against Sean “Diddy” Combs and Jay-Z over the alleged r*pe of a 13-year-old girl in 2000 has been dismissed by attorney Tony Buzbee, who was representing Jane Doe. Jane Doe dismissed the case \"with prejudice,\" meaning it cannot be re-filed again in the future. Jay-Z a.k.a. Shawn Carter has declared victory.\"\"\"\n",
        "\n",
        "chat_completion = client.chat.completions.create(\n",
        "    messages=[\n",
        "        {\n",
        "            \"role\": \"system\",\n",
        "            \"content\": SYS_PROMPT\n",
        "        },\n",
        "        {\n",
        "            \"role\": \"user\",\n",
        "            \"content\": USER_PROMPT,\n",
        "        },\n",
        "    ],\n",
        "    model=\"llama-3.2-90b-vision-preview\",\n",
        "    stop=None,\n",
        "    temperature=0,\n",
        ")\n",
        "\n",
        "response = chat_completion.choices[0].message.content\n",
        "\n",
        "claims = [v.strip() for v in response.split(\"\\n\")]\n",
        "\n",
        "claims"
      ],
      "metadata": {
        "colab": {
          "base_uri": "https://localhost:8080/"
        },
        "id": "Z-ZIfeI_MUqf",
        "outputId": "9da7d8fd-32de-4999-fdec-cf4a676e62a0"
      },
      "execution_count": 49,
      "outputs": [
        {
          "output_type": "execute_result",
          "data": {
            "text/plain": [
              "['A lawsuit was filed against Sean \"Diddy\" Combs and Jay-Z over the alleged rape of a 13-year-old girl in 2000.',\n",
              " 'The lawsuit against Sean \"Diddy\" Combs and Jay-Z has been dismissed by attorney Tony Buzbee.',\n",
              " 'The lawsuit was dismissed \"with prejudice,\" meaning it cannot be re-filed again in the future.',\n",
              " 'Jay-Z has declared victory following the dismissal of the lawsuit.']"
            ]
          },
          "metadata": {},
          "execution_count": 49
        }
      ]
    },
    {
      "cell_type": "code",
      "source": [
        "import requests\n",
        "\n",
        "def call_perplexity(messages):\n",
        "  url = \"https://api.perplexity.ai/chat/completions\"\n",
        "\n",
        "  payload = {\n",
        "      \"model\": \"sonar\",\n",
        "      \"messages\": messages,\n",
        "      \"temperature\": 0,\n",
        "      \"return_images\": False,\n",
        "      \"return_related_questions\": False,\n",
        "      \"search_recency_filter\": \"month\",\n",
        "  }\n",
        "  headers = {\n",
        "      \"Authorization\": f\"Bearer {PPLX_API_KEY}\",\n",
        "      \"Content-Type\": \"application/json\"\n",
        "  }\n",
        "\n",
        "  response = requests.request(\"POST\", url, json=payload, headers=headers)\n",
        "\n",
        "  return response"
      ],
      "metadata": {
        "id": "01Ex6U18UpIP"
      },
      "execution_count": 63,
      "outputs": []
    },
    {
      "cell_type": "code",
      "source": [
        "import json\n",
        "\n",
        "def find_sources_for_claim(post, claim):\n",
        "  return json.loads(call_perplexity([\n",
        "      {\n",
        "          \"role\": \"system\",\n",
        "          \"content\": \"\"\"\\\n",
        "Your job is to analyze the veracity of a claim.\n",
        "\n",
        "Respond using 2-3 sentences.\n",
        "\n",
        "Only respond with evidence relating directly to the claim; only use the full text of the post as additional context.\n",
        "\"\"\"\n",
        "      },\n",
        "      {\n",
        "          \"role\": \"user\",\n",
        "          \"content\": f\"\"\"\\\n",
        "Here is the full text of a post:\n",
        "\"{post}\"\n",
        "\n",
        "\n",
        "Find evidence to support or reject this claim (and ONLY this claim) from the post:\n",
        "\"{claim}\".\n",
        "\"\"\"\n",
        "      }\n",
        "  ]).text)\n",
        "\n",
        "POST = \"\"\"The lawsuit against Sean “Diddy” Combs and Jay-Z over the alleged r*pe of a 13-year-old girl in 2000 has been dismissed by attorney Tony Buzbee, who was representing Jane Doe. Jane Doe dismissed the case \"with prejudice,\" meaning it cannot be re-filed again in the future. Jay-Z a.k.a. Shawn Carter has declared victory.\"\"\"\n",
        "\n",
        "claims_sources_explanations = []\n",
        "for claim in claims:\n",
        "  res = find_sources_for_claim(POST, claim)\n",
        "  sources = res[\"citations\"]\n",
        "  explanation = res[\"choices\"][0][\"message\"][\"content\"]\n",
        "\n",
        "  print(explanation)\n",
        "  print(\"---\")\n",
        "\n",
        "  claims_sources_explanations.append((claim, sources, explanation))"
      ],
      "metadata": {
        "colab": {
          "base_uri": "https://localhost:8080/"
        },
        "id": "cfVjixy8OCuR",
        "outputId": "2462d012-d91a-4237-9f3e-e038a6f6d316"
      },
      "execution_count": 64,
      "outputs": [
        {
          "output_type": "stream",
          "name": "stdout",
          "text": [
            "The claim that \"A lawsuit was filed against Sean 'Diddy' Combs and Jay-Z over the alleged rape of a 13-year-old girl in 2000\" is supported by the following evidence:\n",
            "\n",
            "- A civil lawsuit was indeed filed against Sean \"Diddy\" Combs and Jay-Z, accusing them of raping a 13-year-old girl at a house party following the MTV Video Music Awards in 2000[1][2].\n",
            "- The lawsuit was initially filed against Combs in October and later amended to include Jay-Z as a defendant in December[1].\n",
            "---\n",
            "The claim that \"the lawsuit against Sean 'Diddy' Combs and Jay-Z has been dismissed by attorney Tony Buzbee\" is not supported by the available evidence. According to the search results, the lawsuit was voluntarily dismissed by the plaintiff (Jane Doe) through her attorney, but there is no specific mention that Tony Buzbee was the one who dismissed the lawsuit on behalf of the plaintiff. Instead, Tony Buzbee is mentioned as having filed more than two dozen lawsuits against Combs, including the one that was dismissed, but he declined to comment on the dismissal[3].\n",
            "---\n",
            "The claim that the lawsuit was dismissed \"with prejudice,\" meaning it cannot be re-filed again in the future, is supported by multiple sources. Court papers filed in New York federal court stated that the suit was \"voluntarily dismissed with prejudice,\" which means it cannot be refiled[1][4]. This type of dismissal is final and prevents the case from being brought again[4].\n",
            "---\n",
            "The claim that \"Jay-Z has declared victory following the dismissal of the lawsuit\" is supported by evidence. Jay-Z stated that the dismissal was a victory, noting that the allegations were \"frivolous, fictitious and appalling\" and that he had cleared his name without settling or paying any money[1][3]. His statement described the outcome as a victory, aligning with the claim in the post[3].\n",
            "---\n"
          ]
        }
      ]
    },
    {
      "cell_type": "code",
      "source": [
        "evaluations = []\n",
        "\n",
        "def rate_claim(post, claim, evidence):\n",
        "  prompt1 = f\"\"\"\\\n",
        "Here is the full text of a post:\n",
        "\"{post}\"\n",
        "\n",
        "\n",
        "Find evidence to support or reject this claim from the post:\n",
        "\"{claim}\".\n",
        "\"\"\"\n",
        "\n",
        "  prompt2 = \"Given this explanation, respond with whether the claim is ACCURATE or MISLEADING.\\n\\nOnly respond with ACCURATE or MISLEADING, nothing else.\"\n",
        "\n",
        "  completion = client.chat.completions.create(\n",
        "    messages=[\n",
        "        {\n",
        "            \"role\": \"user\",\n",
        "            \"content\": prompt1,\n",
        "        },\n",
        "        {\n",
        "            \"role\": \"assistant\",\n",
        "            \"content\": evidence,\n",
        "        },\n",
        "        {\n",
        "            \"role\": \"user\",\n",
        "            \"content\": prompt2,\n",
        "        },\n",
        "    ],\n",
        "    model=\"llama-3.1-8b-instant\",\n",
        "    stop=None,\n",
        "    temperature=0,\n",
        "  )\n",
        "\n",
        "  response = completion.choices[0].message.content\n",
        "\n",
        "  return response\n",
        "\n",
        "\n",
        "for claim, source, evidence in claims_sources_explanations:\n",
        "  decision = rate_claim(POST, claim, evidence)\n",
        "\n",
        "  evaluation = {\n",
        "      \"claim\": claim,\n",
        "      \"sources\": sources,\n",
        "      \"evidence\": evidence,\n",
        "      \"is_misleading\": decision == \"MISLEADING\"\n",
        "  }\n",
        "\n",
        "  print(evaluation)\n",
        "\n",
        "  evaluations.append(evaluation)\n"
      ],
      "metadata": {
        "colab": {
          "base_uri": "https://localhost:8080/"
        },
        "id": "r6-zWRRkUyE5",
        "outputId": "4cbf8f1b-f332-4e22-8d30-3c32e414cdc0"
      },
      "execution_count": 69,
      "outputs": [
        {
          "output_type": "stream",
          "name": "stdout",
          "text": [
            "{'claim': 'A lawsuit was filed against Sean \"Diddy\" Combs and Jay-Z over the alleged rape of a 13-year-old girl in 2000.', 'sources': ['https://www.latimes.com/california/story/2025-02-14/accuser-drops-rape-lawsuit-against-jay-z-and-sean-diddy-combs', 'https://abc7.com/post/civil-case-accusing-sean-diddy-combs-shawn-jay-carter-sexual-assault-dismissed/15908008/', 'https://www.cbsnews.com/news/jay-z-sean-diddy-combs-sexual-assault-lawsuit-dropped-by-accuser/', 'https://abcnews.go.com/Entertainment/civil-case-accusing-jay-z-diddy-rape-dismissed/story?id=118847148'], 'evidence': 'The claim that \"A lawsuit was filed against Sean \\'Diddy\\' Combs and Jay-Z over the alleged rape of a 13-year-old girl in 2000\" is supported by the following evidence:\\n\\n- A civil lawsuit was indeed filed against Sean \"Diddy\" Combs and Jay-Z, accusing them of raping a 13-year-old girl at a house party following the MTV Video Music Awards in 2000[1][2].\\n- The lawsuit was initially filed against Combs in October and later amended to include Jay-Z as a defendant in December[1].', 'is_misleading': False}\n",
            "{'claim': 'The lawsuit against Sean \"Diddy\" Combs and Jay-Z has been dismissed by attorney Tony Buzbee.', 'sources': ['https://www.latimes.com/california/story/2025-02-14/accuser-drops-rape-lawsuit-against-jay-z-and-sean-diddy-combs', 'https://abc7.com/post/civil-case-accusing-sean-diddy-combs-shawn-jay-carter-sexual-assault-dismissed/15908008/', 'https://www.cbsnews.com/news/jay-z-sean-diddy-combs-sexual-assault-lawsuit-dropped-by-accuser/', 'https://abcnews.go.com/Entertainment/civil-case-accusing-jay-z-diddy-rape-dismissed/story?id=118847148'], 'evidence': 'The claim that \"the lawsuit against Sean \\'Diddy\\' Combs and Jay-Z has been dismissed by attorney Tony Buzbee\" is not supported by the available evidence. According to the search results, the lawsuit was voluntarily dismissed by the plaintiff (Jane Doe) through her attorney, but there is no specific mention that Tony Buzbee was the one who dismissed the lawsuit on behalf of the plaintiff. Instead, Tony Buzbee is mentioned as having filed more than two dozen lawsuits against Combs, including the one that was dismissed, but he declined to comment on the dismissal[3].', 'is_misleading': True}\n",
            "{'claim': 'The lawsuit was dismissed \"with prejudice,\" meaning it cannot be re-filed again in the future.', 'sources': ['https://www.latimes.com/california/story/2025-02-14/accuser-drops-rape-lawsuit-against-jay-z-and-sean-diddy-combs', 'https://abc7.com/post/civil-case-accusing-sean-diddy-combs-shawn-jay-carter-sexual-assault-dismissed/15908008/', 'https://www.cbsnews.com/news/jay-z-sean-diddy-combs-sexual-assault-lawsuit-dropped-by-accuser/', 'https://abcnews.go.com/Entertainment/civil-case-accusing-jay-z-diddy-rape-dismissed/story?id=118847148'], 'evidence': 'The claim that the lawsuit was dismissed \"with prejudice,\" meaning it cannot be re-filed again in the future, is supported by multiple sources. Court papers filed in New York federal court stated that the suit was \"voluntarily dismissed with prejudice,\" which means it cannot be refiled[1][4]. This type of dismissal is final and prevents the case from being brought again[4].', 'is_misleading': False}\n",
            "{'claim': 'Jay-Z has declared victory following the dismissal of the lawsuit.', 'sources': ['https://www.latimes.com/california/story/2025-02-14/accuser-drops-rape-lawsuit-against-jay-z-and-sean-diddy-combs', 'https://abc7.com/post/civil-case-accusing-sean-diddy-combs-shawn-jay-carter-sexual-assault-dismissed/15908008/', 'https://www.cbsnews.com/news/jay-z-sean-diddy-combs-sexual-assault-lawsuit-dropped-by-accuser/', 'https://abcnews.go.com/Entertainment/civil-case-accusing-jay-z-diddy-rape-dismissed/story?id=118847148'], 'evidence': 'The claim that \"Jay-Z has declared victory following the dismissal of the lawsuit\" is supported by evidence. Jay-Z stated that the dismissal was a victory, noting that the allegations were \"frivolous, fictitious and appalling\" and that he had cleared his name without settling or paying any money[1][3]. His statement described the outcome as a victory, aligning with the claim in the post[3].', 'is_misleading': False}\n"
          ]
        }
      ]
    },
    {
      "cell_type": "code",
      "source": [],
      "metadata": {
        "id": "AkXUV4MgZgUS"
      },
      "execution_count": null,
      "outputs": []
    }
  ]
}